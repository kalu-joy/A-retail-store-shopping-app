{
 "cells": [
  {
   "cell_type": "markdown",
   "id": "be97717b-d95c-4dc8-b04c-51d2f54f5a93",
   "metadata": {},
   "source": [
    "## GROUP E PROJECT"
   ]
  },
  {
   "cell_type": "raw",
   "id": "648e4fb9-a7e2-4525-ad24-9b0f92386df1",
   "metadata": {},
   "source": [
    "Write a python script for a store that\n",
    "1. Have 20 items in their store, the users can select any product in the store and the quantity of the product they want\n",
    "2. Create 5 different promo code with different discount of 5%, 10%, 15%, 25%, 30% respectively, and the discount should \n",
    "   be deducted on the total amount of the product purchased.\n"
   ]
  },
  {
   "cell_type": "code",
   "execution_count": 1,
   "id": "c789d560-105d-45a4-bd5b-6a3de0c277a7",
   "metadata": {},
   "outputs": [
    {
     "name": "stdout",
     "output_type": "stream",
     "text": [
      "20\n"
     ]
    }
   ],
   "source": [
    "#First create a dictionary of your item/products.\n",
    "available_products = {\n",
    "    \"iphone 12\": {\n",
    "        \"color\": [\"black\", \"white\", \"blue\", \"green\", \"red\"],\n",
    "        \"model\": [\"mini\", \"pro\", \"pro max\"],\n",
    "        \"price\": 699\n",
    "    },\n",
    "    \"samsung galaxy s21\": {\n",
    "        \"color\": [\"gray\", \"white\", \"violet\", \"pink\"],\n",
    "        \"model\": [\"S21\", \"S21+\", \"S21 Ultra\"],\n",
    "        \"price\": 799\n",
    "    },\n",
    "    \"oneplus 9\": {\n",
    "        \"color\": [\"black\", \"blue\", \"silver\"],\n",
    "        \"model\": [\"9\", \"9 Pro\", \"9R\"],\n",
    "        \"price\": 729\n",
    "    },\n",
    "    \"huawei p40\": {\n",
    "        \"color\": [\"black\", \"silver\", \"gold\", \"blue\"],\n",
    "        \"model\": [\"P40\", \"P40 Pro\", \"P40 Pro+\"],\n",
    "        \"price\": 649\n",
    "    },\n",
    "    \"xiaomi mi 11\": {\n",
    "        \"color\": [\"black\", \"white\", \"blue\", \"purple\"],\n",
    "        \"model\": [\"Mi 11\", \"Mi 11 Lite\", \"Mi 11 Ultra\"],\n",
    "        \"price\": 749\n",
    "    },\n",
    "    \"airPods\": {\n",
    "        \"color\": [\"white\"],\n",
    "        \"model\": [\"AirPods\", \"AirPods Pro\"],\n",
    "        \"price\": 159\n",
    "    },\n",
    "    \"galaxy buds\": {\n",
    "        \"color\": [\"black\", \"white\", \"silver\", \"purple\"],\n",
    "        \"model\": [\"Buds\", \"Buds+\", \"Buds Live\", \"Buds Pro\"],\n",
    "        \"price\": 129\n",
    "    },\n",
    "    \"oneplus buds\": {\n",
    "        \"color\": [\"white\", \"gray\", \"blue\"],\n",
    "        \"model\": [\"Buds\", \"Buds Z\"],\n",
    "        \"price\": 79\n",
    "    },\n",
    "    \"huawei freebuds\": {\n",
    "        \"color\": [\"white\", \"black\", \"red\"],\n",
    "        \"model\": [\"FreeBuds 3\", \"FreeBuds 4i\", \"FreeBuds Pro\"],\n",
    "        \"price\": 99\n",
    "    },\n",
    "    \"xiaomi mi true wireless earphones\": {\n",
    "        \"color\": [\"white\", \"black\"],\n",
    "        \"model\": [\"Mi True Wireless Earphones\", \"Mi True Wireless Earphones 2\", \"Mi True Wireless Earphones 2 Basic\"],\n",
    "        \"price\": 59\n",
    "    },\n",
    "    \"iphone case\": {\n",
    "        \"color\": [\"black\", \"white\", \"red\", \"blue\", \"pink\", \"green\", \"yellow\", \"purple\"],\n",
    "        \"model\": [\"iPhone 12 mini\", \"iPhone 12\", \"iPhone 12 Pro\", \"iPhone 12 Pro Max\"],\n",
    "        \"price\": 49\n",
    "    },\n",
    "    \"samsung galaxy case\": {\n",
    "        \"color\": [\"black\", \"white\", \"gray\", \"blue\", \"pink\", \"green\", \"yellow\", \"purple\"],\n",
    "        \"model\": [\"Galaxy S21\", \"Galaxy S21+\", \"Galaxy S21 Ultra\"],\n",
    "        \"price\": 39\n",
    "    },\n",
    "    \"oneplus case\": {\n",
    "        \"color\": [\"black\", \"white\", \"gray\", \"blue\", \"red\", \"green\", \"yellow\", \"purple\"],\n",
    "        \"model\": [\"OnePlus 9\", \"OnePlus 9 Pro\", \"OnePlus 9R\"],\n",
    "        \"price\": 29\n",
    "    },\n",
    "    \"huawei case\": {\n",
    "        \"color\": [\"black\", \"white\", \"gray\", \"blue\", \"red\", \"green\", \"yellow\", \"purple\"],\n",
    "        \"model\": [\"Huawei P40\", \"Huawei P40 Pro\", \"Huawei P40 Pro+\"],\n",
    "        \"price\": 19\n",
    "    },\n",
    "    \"xiaomi case\": {\n",
    "        \"color\": [\"black\", \"white\", \"gray\", \"blue\", \"red\", \"green\", \"yellow\", \"purple\"],\n",
    "        \"model\": [\"Xiaomi Mi 11\", \"Xiaomi Mi 11 Lite\", \"Xiaomi Mi 11 Ultra\"],\n",
    "        \"price\": 9\n",
    "    },\n",
    "    \"iphone charger\": {\n",
    "        \"color\": [\"white\"],\n",
    "        \"model\": [\"Lightning Cable\", \"MagSafe Charger\", \"MagSafe Duo Charger\"],\n",
    "        \"price\": 19\n",
    "    },\n",
    "    \"samsung galaxy charger\": {\n",
    "        \"color\": [\"black\", \"white\"],\n",
    "        \"model\": [\"USB-C Cable\", \"Wireless Charger\", \"Wireless Charger Duo\"],\n",
    "        \"price\": 15\n",
    "    },\n",
    "    \"oneplus charger\": {\n",
    "        \"color\": [\"black\", \"white\", \"red\"],\n",
    "        \"model\": [\"USB-C Cable\", \"Warp Charge 65\", \"Warp Charge 50 Wireless\"],\n",
    "        \"price\": 25\n",
    "    },\n",
    "    \"huawei charger\": {\n",
    "        \"color\": [\"black\", \"white\"],\n",
    "        \"model\": [\"USB-C Cable\", \"SuperCharge 40\", \"SuperCharge Wireless\"],\n",
    "        \"price\": 20\n",
    "    },\n",
    "    \"xiaomi charger\": {\n",
    "        \"color\": [\"black\", \"white\"],\n",
    "        \"model\": [\"USB-C Cable\", \"Mi 65W Fast Charger\", \"Mi 80W Wireless Charger\"],\n",
    "        \"price\": 10\n",
    "    }\n",
    "}\n",
    "print(len(available_products)) #checking the complete number of items in my dictionary"
   ]
  },
  {
   "cell_type": "code",
   "execution_count": 2,
   "id": "3527bbbf-a53b-4089-98b2-9cfd779d0c34",
   "metadata": {},
   "outputs": [],
   "source": [
    "# Define a function to calculate the subtotal of items a user selects\n",
    "def sub_total(quantity, price):\n",
    "    return quantity * price\n",
    "\n",
    "# Define a function to print the items in the cart and the total amount of all the subtotals\n",
    "def print_cart(cart):\n",
    "    print(f\"Here are the items in your cart and the total amount:  \")\n",
    "    total_subtotal = 0\n",
    "    for i in cart:\n",
    "        print(f\"{i}: {cart[i]['color']} color, {cart[i]['model']} model, {cart[i]['quantity']} units, ${cart[i]['subtotal']} subtotal\")\n",
    "        total_subtotal += cart[i][\"subtotal\"]\n",
    "    print(f\"Total Purchase: ${total_subtotal}\")\n",
    "    return total_subtotal\n",
    "\n",
    "# Define a function to make text bold\n",
    "def bold_text(text):\n",
    "    return \"\\033[1m\" + str(text) + \"\\033[0m\"\n"
   ]
  },
  {
   "cell_type": "code",
   "execution_count": 3,
   "id": "5b009c51-f3d2-4288-b4c3-0f5de2e456c2",
   "metadata": {},
   "outputs": [
    {
     "name": "stdout",
     "output_type": "stream",
     "text": [
      "Welcome to \u001b[1mExcel Shop\u001b[0m, we sell phones and phone accessories of different colours and models.\n",
      "Listed below are the products in stock and their prices.\n",
      "[ 1 ] iphone 12 $699\n",
      "[ 2 ] samsung galaxy s21 $799\n",
      "[ 3 ] oneplus 9 $729\n",
      "[ 4 ] huawei p40 $649\n",
      "[ 5 ] xiaomi mi 11 $749\n",
      "[ 6 ] airPods $159\n",
      "[ 7 ] galaxy buds $129\n",
      "[ 8 ] oneplus buds $79\n",
      "[ 9 ] huawei freebuds $99\n",
      "[ 10 ] xiaomi mi true wireless earphones $59\n",
      "[ 11 ] iphone case $49\n",
      "[ 12 ] samsung galaxy case $39\n",
      "[ 13 ] oneplus case $29\n",
      "[ 14 ] huawei case $19\n",
      "[ 15 ] xiaomi case $9\n",
      "[ 16 ] iphone charger $19\n",
      "[ 17 ] samsung galaxy charger $15\n",
      "[ 18 ] oneplus charger $25\n",
      "[ 19 ] huawei charger $20\n",
      "[ 20 ] xiaomi charger $10\n"
     ]
    }
   ],
   "source": [
    "# Print a welcome message to the user\n",
    "print(f\"Welcome to {bold_text('Excel Shop')}, we sell phones and phone accessories of different colours and models.\")\n",
    "print(\"Listed below are the products in stock and their prices.\")\n",
    "for index, product in enumerate(available_products, start=1):\n",
    "    price = available_products.get(product).get(\"price\")\n",
    "    print(\"[\", index, \"]\", product, \"$\" + str(price))\n"
   ]
  },
  {
   "cell_type": "code",
   "execution_count": 6,
   "id": "1c69d4fc-56f3-4eca-8454-a8fc909b590c",
   "metadata": {},
   "outputs": [
    {
     "name": "stdin",
     "output_type": "stream",
     "text": [
      "Enter a product name or 'done' to finish:   IPHONE 12\n"
     ]
    },
    {
     "name": "stdout",
     "output_type": "stream",
     "text": [
      "Listed below are the available colors and models for \u001b[1miphone 12\u001b[0m.  \n",
      "Colors: black, white, blue, green, red.\n",
      "Models: mini, pro, pro max.\n"
     ]
    },
    {
     "name": "stdin",
     "output_type": "stream",
     "text": [
      "Enter color and model, separated by a comma:   BLACK, MINI\n"
     ]
    },
    {
     "name": "stdout",
     "output_type": "stream",
     "text": [
      "You selected black color and mini model for iphone 12.\n"
     ]
    },
    {
     "name": "stdin",
     "output_type": "stream",
     "text": [
      "Please enter the quantity you want:  3\n"
     ]
    },
    {
     "name": "stdout",
     "output_type": "stream",
     "text": [
      "You selected 3 units of iphone 12 in black color and mini model.\n",
      "The subtotal for this item is $2097.\n"
     ]
    },
    {
     "name": "stdin",
     "output_type": "stream",
     "text": [
      "Enter a product name or 'done' to finish:   IPHONE 12\n"
     ]
    },
    {
     "name": "stdout",
     "output_type": "stream",
     "text": [
      "Listed below are the available colors and models for \u001b[1miphone 12\u001b[0m.  \n",
      "Colors: black, white, blue, green, red.\n",
      "Models: mini, pro, pro max.\n"
     ]
    },
    {
     "name": "stdin",
     "output_type": "stream",
     "text": [
      "Enter color and model, separated by a comma:   WHITE, PRO\n"
     ]
    },
    {
     "name": "stdout",
     "output_type": "stream",
     "text": [
      "You selected white color and pro model for iphone 12.\n"
     ]
    },
    {
     "name": "stdin",
     "output_type": "stream",
     "text": [
      "Please enter the quantity you want:  5\n"
     ]
    },
    {
     "name": "stdout",
     "output_type": "stream",
     "text": [
      "You selected 5 units of iphone 12 in white color and pro model.\n",
      "The subtotal for this item is $3495.\n"
     ]
    },
    {
     "name": "stdin",
     "output_type": "stream",
     "text": [
      "Enter a product name or 'done' to finish:   DONE\n"
     ]
    },
    {
     "name": "stdout",
     "output_type": "stream",
     "text": [
      "Here are the items in your cart and the total amount:  \n",
      "iphone 12: white color, pro model, 5 units, $3495 subtotal\n",
      "Total Purchase: $3495\n"
     ]
    },
    {
     "data": {
      "text/plain": [
       "3495"
      ]
     },
     "execution_count": 6,
     "metadata": {},
     "output_type": "execute_result"
    }
   ],
   "source": [
    "'''This cell contains the codes for user inputs. First, a user selects a product, next the user selects the available color and model of their choice,\n",
    "and then finally, a user is asked to enter the quantity of product they want. After making these selections, the subtotal is calculated and the user \n",
    "is asked to choose another product or enter \"done\" to finish'''\n",
    "\n",
    "cart = { }\n",
    "\n",
    "while True:\n",
    "    product = input(\"Enter a product name or 'done' to finish:  \")\n",
    "    product = product.lower()\n",
    "    available_products_lower = {key.lower(): value for key, value in available_products.items()}\n",
    "    if product == \"done\":\n",
    "        break\n",
    "    elif product not in available_products:\n",
    "        print(\"Sorry, it is not available.\")\n",
    "        continue\n",
    "        \n",
    "    else:\n",
    "        print(f\"Listed below are the available colors and models for {bold_text(product)}.  \")\n",
    "        print(f\"Colors: {', '.join(available_products[product]['color'])}.\")\n",
    "        print(f\"Models: {', '.join(available_products[product]['model'])}.\")\n",
    "        while True:\n",
    "            color, model = input(\"Enter color and model, separated by a comma:  \").split(\",\")\n",
    "            color = color.lower().strip()\n",
    "            model = model.lower().strip()\n",
    "            if color in [c.lower() for c in available_products[product][\"color\"]] and model in [m.lower() for m in available_products[product][\"model\"]]:\n",
    "                print(f\"You selected {color} color and {model} model for {product}.\")\n",
    "                while True:\n",
    "                    quantity = int(input(\"Please enter the quantity you want: \"))\n",
    "                    if quantity > 0:\n",
    "                        print(f\"You selected {quantity} units of {product} in {color} color and {model} model.\")\n",
    "                        subtotal = sub_total(quantity, available_products[product][\"price\"])\n",
    "                        print(f\"The subtotal for this item is ${subtotal}.\")\n",
    "                        cart[product] = {\"color\": color, \"model\": model, \"quantity\": quantity, \"subtotal\": subtotal}\n",
    "                        break\n",
    "                    else:\n",
    "                        print(\"Invalid number. Please enter a valid quantity.\")\n",
    "                break\n",
    "            else:\n",
    "                print(\"Invalid input. Please enter a valid color and model.\")\n",
    "print_cart(cart)"
   ]
  },
  {
   "cell_type": "code",
   "execution_count": null,
   "id": "def11521-da46-43d4-b280-e6ae4e71ae0d",
   "metadata": {},
   "outputs": [
    {
     "name": "stdout",
     "output_type": "stream",
     "text": [
      "Here are the items in your cart and the total amount:  \n",
      "iphone 12: white color, pro model, 5 units, $3495 subtotal\n",
      "Total Purchase: $3495\n"
     ]
    }
   ],
   "source": [
    "promo_codes = {\n",
    "\"EXCEL5\": 0.05, # 5% discount\n",
    "\"EXCEL10\": 0.10, # 10% discount\n",
    "\"EXCEL15\": 0.15, # 15% discount\n",
    "\"EXCEL25\": 0.25, # 25% discount\n",
    "\"EXCEL30\": 0.30 # 30% discount\n",
    "}\n",
    "\n",
    "total_subtotal = print_cart(cart)\n",
    "while True:\n",
    "    promo_code = input(\"Please enter a promo code if you have one: \")\n",
    "    if promo_code in promo_codes:\n",
    "        print(f\"You have entered a valid promo code: {promo_code}.\")\n",
    "        discount = promo_codes[promo_code]\n",
    "        if total_subtotal >= 2000:\n",
    "            total_subtotal -= total_subtotal * discount  # Apply the discount\n",
    "            print(f\"Discount applied! Your new total is ${total_subtotal:.2f}.\")\n",
    "            break\n",
    "        else:\n",
    "            print(\"Your total is less than $2000. No discount applied.\")\n",
    "            print(f\"Your total is ${total_subtotal:.2f}.\")\n",
    "    else:\n",
    "        print(\"Invalid promo code. Please enter a valid promo code.\")\n",
    "        continue"
   ]
  }
 ],
 "metadata": {
  "kernelspec": {
   "display_name": "Python 3 (ipykernel)",
   "language": "python",
   "name": "python3"
  },
  "language_info": {
   "codemirror_mode": {
    "name": "ipython",
    "version": 3
   },
   "file_extension": ".py",
   "mimetype": "text/x-python",
   "name": "python",
   "nbconvert_exporter": "python",
   "pygments_lexer": "ipython3",
   "version": "3.10.5"
  }
 },
 "nbformat": 4,
 "nbformat_minor": 5
}
